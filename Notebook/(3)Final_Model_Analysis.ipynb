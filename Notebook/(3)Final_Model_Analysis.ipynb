{
 "cells": [
  {
   "cell_type": "markdown",
   "metadata": {},
   "source": [
    "# Final Model Analysis"
   ]
  },
  {
   "cell_type": "markdown",
   "metadata": {},
   "source": [
    "### For this notebook I will dive deep into the model and extract useful information that will hopefully provide actionable insights"
   ]
  },
  {
   "cell_type": "code",
   "execution_count": 1,
   "metadata": {},
   "outputs": [],
   "source": [
    "# Your code here - remember to use markdown cells for comments as well!\n",
    "import pandas as pd\n",
    "import numpy as np\n",
    "import matplotlib.pyplot as plt\n",
    "import seaborn as sns\n",
    "from pandasql import sqldf\n",
    "import missingno as msno\n",
    "from sklearn.model_selection import train_test_split, GridSearchCV\n",
    "\n",
    "from sklearn.compose import ColumnTransformer\n",
    "from sklearn.pipeline import Pipeline\n",
    "from sklearn.impute import SimpleImputer\n",
    "from sklearn.preprocessing import StandardScaler, OneHotEncoder, MinMaxScaler\n",
    "from sklearn.linear_model import LogisticRegression\n",
    "from sklearn.metrics import accuracy_score, f1_score, roc_auc_score, confusion_matrix, precision_score, recall_score, plot_confusion_matrix\n",
    "from sklearn.ensemble import RandomForestClassifier, AdaBoostClassifier, GradientBoostingClassifier\n",
    "from sklearn.neighbors import KNeighborsClassifier\n",
    "from xgboost import XGBClassifier\n",
    "from sklearn.tree import DecisionTreeClassifier\n",
    "from sklearn.svm import SVC\n",
    "\n",
    "import category_encoders as ce\n",
    "import time"
   ]
  },
  {
   "cell_type": "code",
   "execution_count": 2,
   "metadata": {},
   "outputs": [],
   "source": [
    "def evaluate(estimator, X_train, X_test, y_train, y_test):\n",
    "    '''\n",
    "    Evalutaion function to show scoring metrics such as f1, ROC AUC, accuracy, precision and recall\n",
    "    for both the train and test sets\n",
    "    Also will show a confusion matrix\n",
    "    '''\n",
    "    # set predictions\n",
    "    train_preds = estimator.predict(X_train)\n",
    "    test_preds = estimator.predict(X_test)\n",
    "    \n",
    "    # print scores\n",
    "    print(\"Train Scores\")\n",
    "    print(\"------------\")\n",
    "    print(f\"Accuracy: {np.round(accuracy_score(y_train, train_preds)*100, 2)}%\")\n",
    "    print(f\"F1: {np.round(f1_score(y_train, train_preds)*100, 2)}%\")\n",
    "    print(f\"ROC-AUC: {np.round(roc_auc_score(y_train, train_preds)*100, 2)}%\")\n",
    "    print(f\"Precision: {np.round(precision_score(y_train, train_preds)*100, 2)}%\")\n",
    "    print(f\"Recall: {np.round(recall_score(y_train, train_preds)*100, 2)}%\")\n",
    "    print(\"------\" * 5)\n",
    "    print(\"Test Scores\")\n",
    "    print(\"-----------\")\n",
    "    print(f\"Accuracy: {np.round(accuracy_score(y_test, test_preds)*100, 2)}%\")\n",
    "    print(f\"F1: {np.round(f1_score(y_test, test_preds)*100, 2)}%\")\n",
    "    print(f\"ROC-AUC: {np.round(roc_auc_score(y_test, test_preds)*100, 2)}%\")\n",
    "    print(f\"Precision: {np.round(precision_score(y_test, test_preds)*100, 2)}%\")\n",
    "    print(f\"Recall: {np.round(recall_score(y_test, test_preds)*100, 2)}%\")\n",
    "    \n",
    "    # plot test confusion matrix   \n",
    "    plot_confusion_matrix(estimator, X_test, y_test)\n"
   ]
  },
  {
   "cell_type": "code",
   "execution_count": 3,
   "metadata": {},
   "outputs": [
    {
     "name": "stdout",
     "output_type": "stream",
     "text": [
      "Numeric: ['amount_tsh', 'gps_height', 'public_meeting', 'permit', 'construction_year']\n",
      "OHE: ['basin', 'extraction_type_class', 'payment', 'water_quality', 'quantity', 'source_type', 'waterpoint_type']\n",
      "Frequency: ['funder', 'installer', 'wpt_name', 'subvillage', 'region', 'scheme_management', 'management']\n"
     ]
    }
   ],
   "source": [
    "DF = pd.read_csv('Cleaned_DF')\n",
    "\n",
    "X = DF.drop(['status_group'], axis=1)\n",
    "y = DF['status_group']\n",
    "\n",
    "X_train, X_test, y_train, y_test = train_test_split(X, y, test_size = .25, random_state = 42)\n",
    "\n",
    "# To deal with categorical values, I will group columns together based on the frequency of values\n",
    "# create column with numeric values \n",
    "# create column with values less than 10 categories to OHE\n",
    "# create column with values more than 10 categories\n",
    "\n",
    "num_cols = []\n",
    "ohe_cols = []\n",
    "freq_cols = []\n",
    "\n",
    "for c in X.columns:\n",
    "    if DF[c].dtype in ['float64', 'int64']:\n",
    "        num_cols.append(c)\n",
    "    elif len(DF[c].unique()) <= 10:\n",
    "        ohe_cols.append(c)\n",
    "    else:\n",
    "        freq_cols.append(c)\n",
    "        \n",
    "        \n",
    "print(f\"Numeric: {num_cols}\")\n",
    "print(f\"OHE: {ohe_cols}\")\n",
    "print(f\"Frequency: {freq_cols}\")"
   ]
  },
  {
   "cell_type": "code",
   "execution_count": 4,
   "metadata": {},
   "outputs": [],
   "source": [
    "# Dealing with numeric values and adding a min-max scaler and replacing null values with the median value\n",
    "numeric_transformer = Pipeline(steps=[(\"num_imputer\", SimpleImputer(strategy=\"median\")), \n",
    "                                      (\"scaler\", MinMaxScaler())])\n",
    "# Dealing with categorical columns with less than 10 unique values by One Hot Encoding them. No null values\n",
    "ohe_transformer = Pipeline(steps=[(\"ohe\", OneHotEncoder(handle_unknown='ignore'))])\n",
    "\n",
    "# Dealing with Categorical columns with more than 10 unique values by using Count Encoder \n",
    "freq_transformer = Pipeline(steps=[(\"freq_enc\", ce.CountEncoder(normalize=True, \n",
    "                                                                min_group_size=0.01,\n",
    "                                                                min_group_name='other'))])\n",
    "\n",
    "preprocessor = ColumnTransformer(\n",
    "    transformers=[\n",
    "        (\"num\", numeric_transformer, num_cols),\n",
    "        (\"cat_ohe\", ohe_transformer, ohe_cols),\n",
    "        (\"cat_freq\", freq_transformer, freq_cols)], remainder='passthrough')"
   ]
  },
  {
   "cell_type": "code",
   "execution_count": 5,
   "metadata": {},
   "outputs": [
    {
     "data": {
      "text/plain": [
       "Pipeline(steps=[('preprocessor',\n",
       "                 ColumnTransformer(remainder='passthrough',\n",
       "                                   transformers=[('num',\n",
       "                                                  Pipeline(steps=[('num_imputer',\n",
       "                                                                   SimpleImputer(strategy='median')),\n",
       "                                                                  ('scaler',\n",
       "                                                                   MinMaxScaler())]),\n",
       "                                                  ['amount_tsh', 'gps_height',\n",
       "                                                   'public_meeting', 'permit',\n",
       "                                                   'construction_year']),\n",
       "                                                 ('cat_ohe',\n",
       "                                                  Pipeline(steps=[('ohe',\n",
       "                                                                   OneHotEncoder(handle_unknown='ignore'))]),\n",
       "                                                  ['basin',\n",
       "                                                   'e...\n",
       "                                                   'payment', 'water_quality',\n",
       "                                                   'quantity', 'source_type',\n",
       "                                                   'waterpoint_type']),\n",
       "                                                 ('cat_freq',\n",
       "                                                  Pipeline(steps=[('freq_enc',\n",
       "                                                                   CountEncoder(combine_min_nan_groups=True,\n",
       "                                                                                min_group_name='other',\n",
       "                                                                                min_group_size=0.01,\n",
       "                                                                                normalize=True))]),\n",
       "                                                  ['funder', 'installer',\n",
       "                                                   'wpt_name', 'subvillage',\n",
       "                                                   'region',\n",
       "                                                   'scheme_management',\n",
       "                                                   'management'])])),\n",
       "                ('classifier', KNeighborsClassifier(n_neighbors=11))])"
      ]
     },
     "execution_count": 5,
     "metadata": {},
     "output_type": "execute_result"
    }
   ],
   "source": [
    "clf_knn = Pipeline(steps=[('preprocessor', preprocessor),\n",
    "                          ('classifier', KNeighborsClassifier(n_neighbors=11, weights='uniform'))])\n",
    "\n",
    "clf_knn.fit(X_train, y_train)"
   ]
  },
  {
   "cell_type": "code",
   "execution_count": 6,
   "metadata": {},
   "outputs": [
    {
     "name": "stdout",
     "output_type": "stream",
     "text": [
      "Train Scores\n",
      "------------\n",
      "Accuracy: 84.45%\n",
      "F1: 87.26%\n",
      "ROC-AUC: 83.09%\n",
      "Precision: 83.57%\n",
      "Recall: 91.29%\n",
      "------------------------------\n",
      "Test Scores\n",
      "-----------\n",
      "Accuracy: 82.4%\n",
      "F1: 85.72%\n",
      "ROC-AUC: 80.87%\n",
      "Precision: 82.61%\n",
      "Recall: 89.07%\n"
     ]
    },
    {
     "data": {
      "image/png": "[encoded data removed]",
      "text/plain": [
       "<Figure size 432x288 with 2 Axes>"
      ]
     },
     "metadata": {
      "needs_background": "light"
     },
     "output_type": "display_data"
    }
   ],
   "source": [
    "evaluate(clf_knn, X_train, X_test, y_train, y_test)"
   ]
  },
  {
   "cell_type": "code",
   "execution_count": 7,
   "metadata": {
    "scrolled": true
   },
   "outputs": [
    {
     "data": {
      "text/plain": [
       "['amount_tsh',\n",
       " 'gps_height',\n",
       " 'public_meeting',\n",
       " 'permit',\n",
       " 'construction_year',\n",
       " 'x0_Internal',\n",
       " 'x0_Lake Nyasa',\n",
       " 'x0_Lake Rukwa',\n",
       " 'x0_Lake Tanganyika',\n",
       " 'x0_Lake Victoria',\n",
       " 'x0_Pangani',\n",
       " 'x0_Rufiji',\n",
       " 'x0_Ruvuma / Southern Coast',\n",
       " 'x0_Wami / Ruvu',\n",
       " 'x1_gravity',\n",
       " 'x1_handpump',\n",
       " 'x1_motorpump',\n",
       " 'x1_other',\n",
       " 'x1_rope pump',\n",
       " 'x1_submersible',\n",
       " 'x1_wind-powered',\n",
       " 'x2_never pay',\n",
       " 'x2_other',\n",
       " 'x2_pay annually',\n",
       " 'x2_pay monthly',\n",
       " 'x2_pay per bucket',\n",
       " 'x2_pay when scheme fails',\n",
       " 'x2_unknown',\n",
       " 'x3_coloured',\n",
       " 'x3_fluoride',\n",
       " 'x3_fluoride abandoned',\n",
       " 'x3_milky',\n",
       " 'x3_salty',\n",
       " 'x3_salty abandoned',\n",
       " 'x3_soft',\n",
       " 'x3_unknown',\n",
       " 'x4_dry',\n",
       " 'x4_enough',\n",
       " 'x4_insufficient',\n",
       " 'x4_seasonal',\n",
       " 'x4_unknown',\n",
       " 'x5_borehole',\n",
       " 'x5_dam',\n",
       " 'x5_other',\n",
       " 'x5_rainwater harvesting',\n",
       " 'x5_river/lake',\n",
       " 'x5_shallow well',\n",
       " 'x5_spring',\n",
       " 'x6_cattle trough',\n",
       " 'x6_communal standpipe',\n",
       " 'x6_communal standpipe multiple',\n",
       " 'x6_dam',\n",
       " 'x6_hand pump',\n",
       " 'x6_improved spring',\n",
       " 'x6_other',\n",
       " 'funder',\n",
       " 'installer',\n",
       " 'wpt_name',\n",
       " 'subvillage',\n",
       " 'region',\n",
       " 'scheme_management',\n",
       " 'management']"
      ]
     },
     "execution_count": 7,
     "metadata": {},
     "output_type": "execute_result"
    }
   ],
   "source": [
    "def get_column_names_from_ColumnTransformer(column_transformer):    \n",
    "    col_name = []\n",
    "    for transformer_in_columns in column_transformer.transformers_[:]:#the last transformer is ColumnTransformer's 'remainder'\n",
    "        raw_col_name = transformer_in_columns[2]\n",
    "        if isinstance(transformer_in_columns[1],Pipeline): \n",
    "            transformer = transformer_in_columns[1].steps[-1][1]\n",
    "        else:\n",
    "            transformer = transformer_in_columns[1]\n",
    "        try:\n",
    "            names = transformer.get_feature_names()\n",
    "        except AttributeError: # if no 'get_feature_names' function, use raw column name\n",
    "            names = raw_col_name\n",
    "        if isinstance(names,np.ndarray): # eg.\n",
    "            col_name += names.tolist()\n",
    "        elif isinstance(names,list):\n",
    "            col_name += names    \n",
    "        elif isinstance(names,str):\n",
    "            col_name.append(names)\n",
    "    return col_name\n",
    "\n",
    "get_column_names_from_ColumnTransformer(preprocessor)"
   ]
  },
  {
   "cell_type": "code",
   "execution_count": 8,
   "metadata": {},
   "outputs": [],
   "source": [
    "def plot_20(model):\n",
    "    \n",
    "    feature_names = get_column_names_from_ColumnTransformer(preprocessor)\n",
    "    coef = model.named_steps['classifier'].classes_\n",
    "\n",
    "    # Zip coefficients and names together and make a DataFrame\n",
    "    zipped = zip(feature_names, coef)\n",
    "    df = pd.DataFrame(sorted(zipped), columns=[\"feature\", \"value\"])\n",
    "    # Sort the features by the absolute value of their coefficient\n",
    "    df[\"abs_value\"] = df[\"value\"].apply(lambda x: abs(x))\n",
    "    df[\"colors\"] = df[\"value\"].apply(lambda x: \"green\" if x > 0 else \"red\")\n",
    "    df = df.sort_values(\"abs_value\", ascending=False)\n",
    "\n",
    "    fig, ax = plt.subplots(1, 1, figsize=(12, 7))\n",
    "    sns.barplot(x=\"feature\",\n",
    "                y=\"value\",\n",
    "                data=df.head(20),\n",
    "               palette=df.head(20)[\"colors\"],\n",
    "               orient='v')\n",
    "    ax.set_xticklabels(ax.get_xticklabels(), rotation=90, fontsize=20)\n",
    "    ax.set_title(\"Top 20 Features\", fontsize=25)\n",
    "    ax.set_ylabel(\"Coef\", fontsize=22)\n",
    "    ax.set_xlabel(\"Feature Name\", fontsize=22)\n",
    "    plt.show()"
   ]
  },
  {
   "cell_type": "code",
   "execution_count": null,
   "metadata": {},
   "outputs": [],
   "source": []
  }
 ],
 "metadata": {
  "kernelspec": {
   "display_name": "Python (learn-env)",
   "language": "python",
   "name": "learn-env"
  },
  "language_info": {
   "codemirror_mode": {
    "name": "ipython",
    "version": 3
   },
   "file_extension": ".py",
   "mimetype": "text/x-python",
   "name": "python",
   "nbconvert_exporter": "python",
   "pygments_lexer": "ipython3",
   "version": "3.8.5"
  }
 },
 "nbformat": 4,
 "nbformat_minor": 4
}
