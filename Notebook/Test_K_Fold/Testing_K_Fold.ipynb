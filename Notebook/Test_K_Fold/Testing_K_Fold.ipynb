{
 "cells": [
  {
   "cell_type": "markdown",
   "metadata": {},
   "source": [
    "K_Fold Test"
   ]
  },
  {
   "cell_type": "markdown",
   "metadata": {},
   "source": []
  },
  {
   "cell_type": "code",
   "execution_count": 18,
   "metadata": {},
   "outputs": [],
   "source": [
    "import pandas as pd\n",
    "import numpy as np\n",
    "import matplotlib.pyplot as plt\n",
    "import seaborn as sns\n",
    "from pandasql import sqldf\n",
    "import missingno as msno\n",
    "from sklearn.model_selection import train_test_split, GridSearchCV\n",
    "\n",
    "from sklearn.compose import ColumnTransformer\n",
    "from sklearn.pipeline import Pipeline\n",
    "from sklearn.impute import SimpleImputer\n",
    "from sklearn.preprocessing import StandardScaler, OneHotEncoder, MinMaxScaler\n",
    "from sklearn.linear_model import LogisticRegression\n",
    "from sklearn.metrics import accuracy_score, f1_score, roc_auc_score, confusion_matrix, precision_score, recall_score, plot_confusion_matrix\n",
    "from sklearn.ensemble import RandomForestClassifier, AdaBoostClassifier, GradientBoostingClassifier\n",
    "from sklearn.neighbors import KNeighborsClassifier\n",
    "from xgboost import XGBClassifier\n",
    "from sklearn.tree import DecisionTreeClassifier\n",
    "from sklearn.svm import SVC\n",
    "from IPython.core import display as ICD\n",
    "\n",
    "import category_encoders as ce\n",
    "import time\n",
    "\n",
    "pd.set_option('mode.chained_assignment',None)"
   ]
  },
  {
   "cell_type": "code",
   "execution_count": 34,
   "metadata": {},
   "outputs": [],
   "source": [
    "df = pd.read_csv(r'C:\\Users\\joe98\\OneDrive\\Documents\\GitHub\\Binary-Classification-Model-Predicting-Functionality-Of-WaterPipelines-In-Tanzania\\Notebook\\DF.csv')"
   ]
  },
  {
   "cell_type": "code",
   "execution_count": 43,
   "metadata": {},
   "outputs": [
    {
     "data": {
      "text/html": [
       "<div>\n",
       "<style scoped>\n",
       "    .dataframe tbody tr th:only-of-type {\n",
       "        vertical-align: middle;\n",
       "    }\n",
       "\n",
       "    .dataframe tbody tr th {\n",
       "        vertical-align: top;\n",
       "    }\n",
       "\n",
       "    .dataframe thead th {\n",
       "        text-align: right;\n",
       "    }\n",
       "</style>\n",
       "<table border=\"1\" class=\"dataframe\">\n",
       "  <thead>\n",
       "    <tr style=\"text-align: right;\">\n",
       "      <th></th>\n",
       "      <th>Unnamed: 0</th>\n",
       "      <th>status_group</th>\n",
       "      <th>amount_tsh</th>\n",
       "      <th>funder</th>\n",
       "      <th>gps_height</th>\n",
       "      <th>installer</th>\n",
       "      <th>wpt_name</th>\n",
       "      <th>basin</th>\n",
       "      <th>subvillage</th>\n",
       "      <th>region</th>\n",
       "      <th>...</th>\n",
       "      <th>scheme_management</th>\n",
       "      <th>permit</th>\n",
       "      <th>construction_year</th>\n",
       "      <th>extraction_type_class</th>\n",
       "      <th>management</th>\n",
       "      <th>payment</th>\n",
       "      <th>water_quality</th>\n",
       "      <th>quantity</th>\n",
       "      <th>source_type</th>\n",
       "      <th>waterpoint_type</th>\n",
       "    </tr>\n",
       "  </thead>\n",
       "  <tbody>\n",
       "    <tr>\n",
       "      <th>0</th>\n",
       "      <td>0</td>\n",
       "      <td>1</td>\n",
       "      <td>6000.0</td>\n",
       "      <td>Roman</td>\n",
       "      <td>1390</td>\n",
       "      <td>Roman</td>\n",
       "      <td>none</td>\n",
       "      <td>Lake Nyasa</td>\n",
       "      <td>Mnyusi B</td>\n",
       "      <td>Iringa</td>\n",
       "      <td>...</td>\n",
       "      <td>VWC</td>\n",
       "      <td>0.0</td>\n",
       "      <td>1999</td>\n",
       "      <td>gravity</td>\n",
       "      <td>vwc</td>\n",
       "      <td>pay annually</td>\n",
       "      <td>soft</td>\n",
       "      <td>enough</td>\n",
       "      <td>spring</td>\n",
       "      <td>communal standpipe</td>\n",
       "    </tr>\n",
       "    <tr>\n",
       "      <th>1</th>\n",
       "      <td>1</td>\n",
       "      <td>1</td>\n",
       "      <td>0.0</td>\n",
       "      <td>Grumeti</td>\n",
       "      <td>1399</td>\n",
       "      <td>GRUMETI</td>\n",
       "      <td>Zahanati</td>\n",
       "      <td>Lake Victoria</td>\n",
       "      <td>Nyamara</td>\n",
       "      <td>Mara</td>\n",
       "      <td>...</td>\n",
       "      <td>Other</td>\n",
       "      <td>1.0</td>\n",
       "      <td>2010</td>\n",
       "      <td>gravity</td>\n",
       "      <td>wug</td>\n",
       "      <td>never pay</td>\n",
       "      <td>soft</td>\n",
       "      <td>insufficient</td>\n",
       "      <td>rainwater harvesting</td>\n",
       "      <td>communal standpipe</td>\n",
       "    </tr>\n",
       "    <tr>\n",
       "      <th>2</th>\n",
       "      <td>2</td>\n",
       "      <td>1</td>\n",
       "      <td>25.0</td>\n",
       "      <td>Lottery Club</td>\n",
       "      <td>686</td>\n",
       "      <td>World vision</td>\n",
       "      <td>Kwa Mahundi</td>\n",
       "      <td>Pangani</td>\n",
       "      <td>Majengo</td>\n",
       "      <td>Manyara</td>\n",
       "      <td>...</td>\n",
       "      <td>VWC</td>\n",
       "      <td>1.0</td>\n",
       "      <td>2009</td>\n",
       "      <td>gravity</td>\n",
       "      <td>vwc</td>\n",
       "      <td>pay per bucket</td>\n",
       "      <td>soft</td>\n",
       "      <td>enough</td>\n",
       "      <td>dam</td>\n",
       "      <td>communal standpipe multiple</td>\n",
       "    </tr>\n",
       "    <tr>\n",
       "      <th>3</th>\n",
       "      <td>3</td>\n",
       "      <td>0</td>\n",
       "      <td>0.0</td>\n",
       "      <td>Unicef</td>\n",
       "      <td>263</td>\n",
       "      <td>UNICEF</td>\n",
       "      <td>Zahanati Ya Nanyumbu</td>\n",
       "      <td>Ruvuma / Southern Coast</td>\n",
       "      <td>Mahakamani</td>\n",
       "      <td>Mtwara</td>\n",
       "      <td>...</td>\n",
       "      <td>VWC</td>\n",
       "      <td>1.0</td>\n",
       "      <td>1986</td>\n",
       "      <td>submersible</td>\n",
       "      <td>vwc</td>\n",
       "      <td>never pay</td>\n",
       "      <td>soft</td>\n",
       "      <td>dry</td>\n",
       "      <td>borehole</td>\n",
       "      <td>communal standpipe multiple</td>\n",
       "    </tr>\n",
       "    <tr>\n",
       "      <th>4</th>\n",
       "      <td>4</td>\n",
       "      <td>1</td>\n",
       "      <td>0.0</td>\n",
       "      <td>Action In A</td>\n",
       "      <td>0</td>\n",
       "      <td>Artisan</td>\n",
       "      <td>Shuleni</td>\n",
       "      <td>Lake Victoria</td>\n",
       "      <td>Kyanyamisa</td>\n",
       "      <td>Kagera</td>\n",
       "      <td>...</td>\n",
       "      <td>NaN</td>\n",
       "      <td>1.0</td>\n",
       "      <td>0</td>\n",
       "      <td>gravity</td>\n",
       "      <td>other</td>\n",
       "      <td>never pay</td>\n",
       "      <td>soft</td>\n",
       "      <td>seasonal</td>\n",
       "      <td>rainwater harvesting</td>\n",
       "      <td>communal standpipe</td>\n",
       "    </tr>\n",
       "  </tbody>\n",
       "</table>\n",
       "<p>5 rows × 21 columns</p>\n",
       "</div>"
      ],
      "text/plain": [
       "   Unnamed: 0  status_group  amount_tsh        funder  gps_height  \\\n",
       "0           0             1      6000.0         Roman        1390   \n",
       "1           1             1         0.0       Grumeti        1399   \n",
       "2           2             1        25.0  Lottery Club         686   \n",
       "3           3             0         0.0        Unicef         263   \n",
       "4           4             1         0.0   Action In A           0   \n",
       "\n",
       "      installer              wpt_name                    basin  subvillage  \\\n",
       "0         Roman                  none               Lake Nyasa    Mnyusi B   \n",
       "1       GRUMETI              Zahanati            Lake Victoria     Nyamara   \n",
       "2  World vision           Kwa Mahundi                  Pangani     Majengo   \n",
       "3        UNICEF  Zahanati Ya Nanyumbu  Ruvuma / Southern Coast  Mahakamani   \n",
       "4       Artisan               Shuleni            Lake Victoria  Kyanyamisa   \n",
       "\n",
       "    region  ...  scheme_management permit  construction_year  \\\n",
       "0   Iringa  ...                VWC    0.0               1999   \n",
       "1     Mara  ...              Other    1.0               2010   \n",
       "2  Manyara  ...                VWC    1.0               2009   \n",
       "3   Mtwara  ...                VWC    1.0               1986   \n",
       "4   Kagera  ...                NaN    1.0                  0   \n",
       "\n",
       "   extraction_type_class management         payment water_quality  \\\n",
       "0                gravity        vwc    pay annually          soft   \n",
       "1                gravity        wug       never pay          soft   \n",
       "2                gravity        vwc  pay per bucket          soft   \n",
       "3            submersible        vwc       never pay          soft   \n",
       "4                gravity      other       never pay          soft   \n",
       "\n",
       "       quantity           source_type              waterpoint_type  \n",
       "0        enough                spring           communal standpipe  \n",
       "1  insufficient  rainwater harvesting           communal standpipe  \n",
       "2        enough                   dam  communal standpipe multiple  \n",
       "3           dry              borehole  communal standpipe multiple  \n",
       "4      seasonal  rainwater harvesting           communal standpipe  \n",
       "\n",
       "[5 rows x 21 columns]"
      ]
     },
     "execution_count": 43,
     "metadata": {},
     "output_type": "execute_result"
    }
   ],
   "source": [
    "df.head()\n"
   ]
  },
  {
   "cell_type": "code",
   "execution_count": 44,
   "metadata": {},
   "outputs": [],
   "source": [
    "df = df.drop(['Unnamed: 0'], axis=1)"
   ]
  },
  {
   "cell_type": "code",
   "execution_count": 46,
   "metadata": {},
   "outputs": [
    {
     "name": "stdout",
     "output_type": "stream",
     "text": [
      "<class 'pandas.core.frame.DataFrame'>\n",
      "RangeIndex: 55083 entries, 0 to 55082\n",
      "Data columns (total 20 columns):\n",
      " #   Column                 Non-Null Count  Dtype  \n",
      "---  ------                 --------------  -----  \n",
      " 0   status_group           55083 non-null  int64  \n",
      " 1   amount_tsh             55083 non-null  float64\n",
      " 2   funder                 51885 non-null  object \n",
      " 3   gps_height             55083 non-null  int64  \n",
      " 4   installer              51868 non-null  object \n",
      " 5   wpt_name               55083 non-null  object \n",
      " 6   basin                  55083 non-null  object \n",
      " 7   subvillage             54713 non-null  object \n",
      " 8   region                 55083 non-null  object \n",
      " 9   public_meeting         51905 non-null  float64\n",
      " 10  scheme_management      51429 non-null  object \n",
      " 11  permit                 52327 non-null  float64\n",
      " 12  construction_year      55083 non-null  int64  \n",
      " 13  extraction_type_class  55083 non-null  object \n",
      " 14  management             55083 non-null  object \n",
      " 15  payment                55083 non-null  object \n",
      " 16  water_quality          55083 non-null  object \n",
      " 17  quantity               55083 non-null  object \n",
      " 18  source_type            55083 non-null  object \n",
      " 19  waterpoint_type        55083 non-null  object \n",
      "dtypes: float64(3), int64(3), object(14)\n",
      "memory usage: 8.4+ MB\n"
     ]
    }
   ],
   "source": [
    "df.info()"
   ]
  },
  {
   "cell_type": "code",
   "execution_count": 48,
   "metadata": {},
   "outputs": [],
   "source": [
    "X = df.drop(['status_group'], axis=1)\n",
    "y = df['status_group']\n"
   ]
  },
  {
   "cell_type": "code",
   "execution_count": 49,
   "metadata": {},
   "outputs": [],
   "source": [
    "from sklearn.model_selection import KFold"
   ]
  },
  {
   "cell_type": "code",
   "execution_count": 61,
   "metadata": {},
   "outputs": [],
   "source": [
    "from sklearn.model_selection import cross_validate"
   ]
  },
  {
   "cell_type": "code",
   "execution_count": 52,
   "metadata": {},
   "outputs": [],
   "source": [
    "# To deal with categorical values, I will group columns together based on the frequency of values\n",
    "# create column with numeric values = num_cols \n",
    "# create column with values less than 10 categories = ohe_cols (one hot encoder)\n",
    "# create column with values more than 10 categories = freq_cols (high frequency values)\n",
    "\n",
    "num_cols = []\n",
    "ohe_cols = []\n",
    "freq_cols = []\n",
    "\n",
    "for c in X.columns:\n",
    "    if df[c].dtype in ['float64', 'int64']:\n",
    "        num_cols.append(c)\n",
    "    elif len(df[c].unique()) <= 10:\n",
    "        ohe_cols.append(c)\n",
    "    else:\n",
    "        freq_cols.append(c)"
   ]
  },
  {
   "cell_type": "code",
   "execution_count": 53,
   "metadata": {},
   "outputs": [],
   "source": [
    "cv = KFold(n_splits=7, random_state=42, shuffle=True)"
   ]
  },
  {
   "cell_type": "code",
   "execution_count": 54,
   "metadata": {},
   "outputs": [],
   "source": [
    "# Dealing with numeric values and adding a min-max scaler and replacing null values with the median value\n",
    "numeric_transformer = Pipeline(steps=[(\"num_imputer\", SimpleImputer(strategy=\"median\")), \n",
    "                                      (\"scaler\", MinMaxScaler())])\n",
    "# Dealing with categorical columns with less than 10 unique values by One Hot Encoding them. No null values\n",
    "ohe_transformer = Pipeline(steps=[(\"ohe\", OneHotEncoder(handle_unknown='ignore'))])\n",
    "\n",
    "# Dealing with Categorical columns with more than 10 unique values by using Count Encoder. Count Encoder handles null values.\n",
    "freq_transformer = Pipeline(steps=[(\"freq_enc\", ce.CountEncoder(normalize=True, \n",
    "                                                                min_group_size=0.01,\n",
    "                                                                min_group_name='other'))])\n",
    "\n",
    "preprocessor = ColumnTransformer(\n",
    "    transformers=[\n",
    "        (\"num\", numeric_transformer, num_cols),\n",
    "        (\"cat_ohe\", ohe_transformer, ohe_cols),\n",
    "        (\"cat_freq\", freq_transformer, freq_cols)], remainder='passthrough')\n",
    "\n",
    "\n",
    "clf_logreg = Pipeline(steps=[('preprocessor', preprocessor),\n",
    "                             ('classifier', LogisticRegression(class_weight='balanced',solver='liblinear'))])\n",
    "\n"
   ]
  },
  {
   "cell_type": "code",
   "execution_count": 74,
   "metadata": {},
   "outputs": [],
   "source": [
    "scores = cross_validate(clf_logreg, X, y, scoring=('accuracy','f1', 'roc_auc'), cv=cv, n_jobs=-1 )"
   ]
  },
  {
   "cell_type": "code",
   "execution_count": 57,
   "metadata": {},
   "outputs": [
    {
     "name": "stdout",
     "output_type": "stream",
     "text": [
      "0.7683132726975653\n"
     ]
    }
   ],
   "source": [
    "print(np.mean(scores))"
   ]
  },
  {
   "cell_type": "code",
   "execution_count": 73,
   "metadata": {},
   "outputs": [
    {
     "name": "stdout",
     "output_type": "stream",
     "text": [
      "test_accuracy  0.8094400165614326\n",
      "test_accuracy  0.8113127902068384\n",
      "test_accuracy  0.8081172970675732\n",
      "test_accuracy  0.805019305019305\n",
      "test_accuracy  0.8106627331155831\n",
      "test_accuracy  0.8029520295202951\n",
      "test_accuracy  0.8037482696198489\n"
     ]
    }
   ],
   "source": [
    "for score in scores['test_f1']:\n",
    "    print('test_accuracy ', score)"
   ]
  },
  {
   "cell_type": "code",
   "execution_count": 110,
   "metadata": {},
   "outputs": [],
   "source": [
    "def evaluate(estimator, X, y, cv):\n",
    "    '''\n",
    "    Evalutaion function to show scoring metrics such as f1, ROC AUC, accuracy, precision and recall\n",
    "    for both the train and test sets\n",
    "    Also will show a confusion matrix\n",
    "    '''\n",
    "    # set predictions\n",
    "    scores = cross_validate(estimator, X, y, scoring = ('accuracy', 'f1', 'roc_auc'), cv = cv, n_jobs=-1)\n",
    "    \n",
    "    # print scores\n",
    "    print(\"------------\")\n",
    "    print(f\"avg_accuracy: \", np.round(np.mean(scores['test_accuracy']),2))\n",
    "    print(f\"avg_f1: \", np.round(np.mean(scores['test_f1']),2))\n",
    "    print(f\"avg_roc_auc: \", np.round(np.mean(scores['test_roc_auc']),2))\n",
    "\n",
    "    \n",
    "    # plot test confusion matrix   \n"
   ]
  },
  {
   "cell_type": "code",
   "execution_count": 111,
   "metadata": {},
   "outputs": [
    {
     "name": "stdout",
     "output_type": "stream",
     "text": [
      "------------\n",
      "avg_accuracy:  0.77\n",
      "avg_f1:  0.81\n",
      "avg_roc_auc:  0.83\n"
     ]
    }
   ],
   "source": [
    "evaluate(clf_logreg, X, y, cv)"
   ]
  },
  {
   "cell_type": "code",
   "execution_count": null,
   "metadata": {},
   "outputs": [],
   "source": []
  }
 ],
 "metadata": {
  "kernelspec": {
   "display_name": "learn-env",
   "language": "python",
   "name": "python3"
  },
  "language_info": {
   "codemirror_mode": {
    "name": "ipython",
    "version": 3
   },
   "file_extension": ".py",
   "mimetype": "text/x-python",
   "name": "python",
   "nbconvert_exporter": "python",
   "pygments_lexer": "ipython3",
   "version": "3.8.5"
  },
  "orig_nbformat": 4
 },
 "nbformat": 4,
 "nbformat_minor": 2
}
