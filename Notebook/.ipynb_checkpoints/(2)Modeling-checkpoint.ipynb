{
 "cells": [
  {
   "cell_type": "code",
   "execution_count": 1,
   "metadata": {},
   "outputs": [],
   "source": [
    "# Your code here - remember to use markdown cells for comments as well!\n",
    "import pandas as pd\n",
    "import numpy as np\n",
    "import matplotlib.pyplot as plt\n",
    "import seaborn as sns\n",
    "from pandasql import sqldf\n",
    "import missingno as msno\n",
    "from sklearn.model_selection import train_test_split, GridSearchCV\n",
    "\n",
    "from sklearn.compose import ColumnTransformer\n",
    "from sklearn.pipeline import Pipeline\n",
    "from sklearn.impute import SimpleImputer\n",
    "from sklearn.preprocessing import StandardScaler, OneHotEncoder, MinMaxScaler\n",
    "from sklearn.linear_model import LogisticRegression\n",
    "from sklearn.metrics import accuracy_score, f1_score, roc_auc_score, confusion_matrix, precision_score, recall_score, plot_confusion_matrix\n",
    "from sklearn.ensemble import RandomForestClassifier, AdaBoostClassifier, GradientBoostingClassifier\n",
    "from sklearn.neighbors import KNeighborsClassifier\n",
    "from xgboost import XGBClassifier\n",
    "from sklearn.tree import DecisionTreeClassifier\n",
    "from sklearn.svm import SVC\n",
    "\n",
    "import category_encoders as ce\n",
    "import time"
   ]
  },
  {
   "cell_type": "markdown",
   "metadata": {},
   "source": [
    "# Prep for Modeling"
   ]
  },
  {
   "cell_type": "code",
   "execution_count": 2,
   "metadata": {},
   "outputs": [],
   "source": [
    "DF = pd.read_csv('Cleaned_DF')"
   ]
  },
  {
   "cell_type": "code",
   "execution_count": 3,
   "metadata": {},
   "outputs": [
    {
     "name": "stdout",
     "output_type": "stream",
     "text": [
      "<class 'pandas.core.frame.DataFrame'>\n",
      "RangeIndex: 55083 entries, 0 to 55082\n",
      "Data columns (total 20 columns):\n",
      " #   Column                 Non-Null Count  Dtype  \n",
      "---  ------                 --------------  -----  \n",
      " 0   status_group           55083 non-null  int64  \n",
      " 1   amount_tsh             55083 non-null  float64\n",
      " 2   funder                 51885 non-null  object \n",
      " 3   gps_height             55083 non-null  int64  \n",
      " 4   installer              51868 non-null  object \n",
      " 5   wpt_name               55083 non-null  object \n",
      " 6   basin                  55083 non-null  object \n",
      " 7   subvillage             54713 non-null  object \n",
      " 8   region                 55083 non-null  object \n",
      " 9   public_meeting         51905 non-null  float64\n",
      " 10  scheme_management      51429 non-null  object \n",
      " 11  permit                 52327 non-null  float64\n",
      " 12  construction_year      55083 non-null  int64  \n",
      " 13  extraction_type_class  55083 non-null  object \n",
      " 14  management             55083 non-null  object \n",
      " 15  payment                55083 non-null  object \n",
      " 16  water_quality          55083 non-null  object \n",
      " 17  quantity               55083 non-null  object \n",
      " 18  source_type            55083 non-null  object \n",
      " 19  waterpoint_type        55083 non-null  object \n",
      "dtypes: float64(3), int64(3), object(14)\n",
      "memory usage: 8.4+ MB\n"
     ]
    }
   ],
   "source": [
    "DF.info()"
   ]
  },
  {
   "cell_type": "code",
   "execution_count": 4,
   "metadata": {},
   "outputs": [],
   "source": [
    "X = DF.drop(['status_group'], axis=1)\n",
    "y = DF['status_group']\n",
    "\n",
    "X_train, X_test, y_train, y_test = train_test_split(X, y, test_size = .25, random_state = 42)"
   ]
  },
  {
   "cell_type": "code",
   "execution_count": 5,
   "metadata": {},
   "outputs": [],
   "source": [
    "# To deal with categorical values, I will group columns together based on the frequency of values\n",
    "# create column with numeric values \n",
    "# create column with values less than 10 categories to OHE\n",
    "# create column with values more than 10 categories\n",
    "\n",
    "num_cols = []\n",
    "ohe_cols = []\n",
    "freq_cols = []\n",
    "\n",
    "for c in X.columns:\n",
    "    if DF[c].dtype in ['float64', 'int64']:\n",
    "        num_cols.append(c)\n",
    "    elif len(DF[c].unique()) <= 10:\n",
    "        ohe_cols.append(c)\n",
    "    else:\n",
    "        freq_cols.append(c)"
   ]
  },
  {
   "cell_type": "code",
   "execution_count": 6,
   "metadata": {},
   "outputs": [
    {
     "name": "stdout",
     "output_type": "stream",
     "text": [
      "Numeric: ['amount_tsh', 'gps_height', 'public_meeting', 'permit', 'construction_year']\n",
      "OHE: ['basin', 'extraction_type_class', 'payment', 'water_quality', 'quantity', 'source_type', 'waterpoint_type']\n",
      "Frequency: ['funder', 'installer', 'wpt_name', 'subvillage', 'region', 'scheme_management', 'management']\n"
     ]
    }
   ],
   "source": [
    "print(f\"Numeric: {num_cols}\")\n",
    "print(f\"OHE: {ohe_cols}\")\n",
    "print(f\"Frequency: {freq_cols}\")"
   ]
  },
  {
   "cell_type": "code",
   "execution_count": 7,
   "metadata": {},
   "outputs": [],
   "source": [
    "# Dealing with numeric values and adding a min-max scaler and replacing null values with the median value\n",
    "numeric_transformer = Pipeline(steps=[(\"num_imputer\", SimpleImputer(strategy=\"median\")), \n",
    "                                      (\"scaler\", MinMaxScaler())])\n",
    "# Dealing with categorical columns with less than 10 unique values by One Hot Encoding them. No null values\n",
    "ohe_transformer = Pipeline(steps=[(\"ohe\", OneHotEncoder(handle_unknown='ignore'))])\n",
    "\n",
    "# Dealing with Categorical columns with more than 10 unique values by using Count Encoder \n",
    "freq_transformer = Pipeline(steps=[(\"freq_enc\", ce.CountEncoder(normalize=True, \n",
    "                                                                min_group_size=0.01,\n",
    "                                                                min_group_name='other'))])\n",
    "\n",
    "preprocessor = ColumnTransformer(\n",
    "    transformers=[\n",
    "        (\"num\", numeric_transformer, num_cols),\n",
    "        (\"cat_ohe\", ohe_transformer, ohe_cols),\n",
    "        (\"cat_freq\", freq_transformer, freq_cols)], remainder='passthrough')"
   ]
  },
  {
   "cell_type": "markdown",
   "metadata": {},
   "source": [
    "# Istantiate Baseline Model // Logistic Regression"
   ]
  },
  {
   "cell_type": "code",
   "execution_count": 8,
   "metadata": {},
   "outputs": [
    {
     "data": {
      "text/plain": [
       "Pipeline(steps=[('preprocessor',\n",
       "                 ColumnTransformer(remainder='passthrough',\n",
       "                                   transformers=[('num',\n",
       "                                                  Pipeline(steps=[('num_imputer',\n",
       "                                                                   SimpleImputer(strategy='median')),\n",
       "                                                                  ('scaler',\n",
       "                                                                   MinMaxScaler())]),\n",
       "                                                  ['amount_tsh', 'gps_height',\n",
       "                                                   'public_meeting', 'permit',\n",
       "                                                   'construction_year']),\n",
       "                                                 ('cat_ohe',\n",
       "                                                  Pipeline(steps=[('ohe',\n",
       "                                                                   OneHotEncoder(handle_unknown='ignore'))]),\n",
       "                                                  ['basin',\n",
       "                                                   'e...\n",
       "                                                   'quantity', 'source_type',\n",
       "                                                   'waterpoint_type']),\n",
       "                                                 ('cat_freq',\n",
       "                                                  Pipeline(steps=[('freq_enc',\n",
       "                                                                   CountEncoder(combine_min_nan_groups=True,\n",
       "                                                                                min_group_name='other',\n",
       "                                                                                min_group_size=0.01,\n",
       "                                                                                normalize=True))]),\n",
       "                                                  ['funder', 'installer',\n",
       "                                                   'wpt_name', 'subvillage',\n",
       "                                                   'region',\n",
       "                                                   'scheme_management',\n",
       "                                                   'management'])])),\n",
       "                ('classifier',\n",
       "                 LogisticRegression(class_weight='balanced',\n",
       "                                    solver='liblinear'))])"
      ]
     },
     "execution_count": 8,
     "metadata": {},
     "output_type": "execute_result"
    }
   ],
   "source": [
    "clf_logreg = Pipeline(steps=[('preprocessor', preprocessor),\n",
    "                             ('classifier', LogisticRegression(class_weight='balanced',solver='liblinear'))])\n",
    "\n",
    "clf_logreg.fit(X_train, y_train)"
   ]
  },
  {
   "cell_type": "code",
   "execution_count": 9,
   "metadata": {},
   "outputs": [
    {
     "data": {
      "text/plain": [
       "(41312, 19)"
      ]
     },
     "execution_count": 9,
     "metadata": {},
     "output_type": "execute_result"
    }
   ],
   "source": [
    "X_train.shape"
   ]
  },
  {
   "cell_type": "code",
   "execution_count": 10,
   "metadata": {},
   "outputs": [
    {
     "data": {
      "text/plain": [
       "(41312, 62)"
      ]
     },
     "execution_count": 10,
     "metadata": {},
     "output_type": "execute_result"
    }
   ],
   "source": [
    "preprocessor.fit_transform(X_train).shape"
   ]
  },
  {
   "cell_type": "code",
   "execution_count": 11,
   "metadata": {
    "scrolled": true
   },
   "outputs": [
    {
     "data": {
      "text/plain": [
       "['amount_tsh',\n",
       " 'gps_height',\n",
       " 'public_meeting',\n",
       " 'permit',\n",
       " 'construction_year',\n",
       " 'x0_Internal',\n",
       " 'x0_Lake Nyasa',\n",
       " 'x0_Lake Rukwa',\n",
       " 'x0_Lake Tanganyika',\n",
       " 'x0_Lake Victoria',\n",
       " 'x0_Pangani',\n",
       " 'x0_Rufiji',\n",
       " 'x0_Ruvuma / Southern Coast',\n",
       " 'x0_Wami / Ruvu',\n",
       " 'x1_gravity',\n",
       " 'x1_handpump',\n",
       " 'x1_motorpump',\n",
       " 'x1_other',\n",
       " 'x1_rope pump',\n",
       " 'x1_submersible',\n",
       " 'x1_wind-powered',\n",
       " 'x2_never pay',\n",
       " 'x2_other',\n",
       " 'x2_pay annually',\n",
       " 'x2_pay monthly',\n",
       " 'x2_pay per bucket',\n",
       " 'x2_pay when scheme fails',\n",
       " 'x2_unknown',\n",
       " 'x3_coloured',\n",
       " 'x3_fluoride',\n",
       " 'x3_fluoride abandoned',\n",
       " 'x3_milky',\n",
       " 'x3_salty',\n",
       " 'x3_salty abandoned',\n",
       " 'x3_soft',\n",
       " 'x3_unknown',\n",
       " 'x4_dry',\n",
       " 'x4_enough',\n",
       " 'x4_insufficient',\n",
       " 'x4_seasonal',\n",
       " 'x4_unknown',\n",
       " 'x5_borehole',\n",
       " 'x5_dam',\n",
       " 'x5_other',\n",
       " 'x5_rainwater harvesting',\n",
       " 'x5_river/lake',\n",
       " 'x5_shallow well',\n",
       " 'x5_spring',\n",
       " 'x6_cattle trough',\n",
       " 'x6_communal standpipe',\n",
       " 'x6_communal standpipe multiple',\n",
       " 'x6_dam',\n",
       " 'x6_hand pump',\n",
       " 'x6_improved spring',\n",
       " 'x6_other',\n",
       " 'funder',\n",
       " 'installer',\n",
       " 'wpt_name',\n",
       " 'subvillage',\n",
       " 'region',\n",
       " 'scheme_management',\n",
       " 'management']"
      ]
     },
     "execution_count": 11,
     "metadata": {},
     "output_type": "execute_result"
    }
   ],
   "source": [
    "# This step wasn't exactly neccessary however, I wanted to find a way to check what the column names looked like after\n",
    "# using ColumnTransformer through the pipeline.\n",
    "# ColumnTransformer has a way to check feature names, but since ColumnTransfer was used as part of a pipeline,\n",
    "# the \"preproccessor.get_feature_names\" only returned the parameters of the \"preproccessor\" pipeline.\n",
    "\n",
    "def get_column_names_from_ColumnTransformer(column_transformer):    \n",
    "    col_name = []\n",
    "    for transformer_in_columns in column_transformer.transformers_[:]:#the last transformer is ColumnTransformer's 'remainder'\n",
    "        raw_col_name = transformer_in_columns[2]\n",
    "        if isinstance(transformer_in_columns[1],Pipeline): \n",
    "            transformer = transformer_in_columns[1].steps[-1][1]\n",
    "        else:\n",
    "            transformer = transformer_in_columns[1]\n",
    "        try:\n",
    "            names = transformer.get_feature_names()\n",
    "        except AttributeError: # if no 'get_feature_names' function, use raw column name\n",
    "            names = raw_col_name\n",
    "        if isinstance(names,np.ndarray): # eg.\n",
    "            col_name += names.tolist()\n",
    "        elif isinstance(names,list):\n",
    "            col_name += names    \n",
    "        elif isinstance(names,str):\n",
    "            col_name.append(names)\n",
    "    return col_name\n",
    "\n",
    "get_column_names_from_ColumnTransformer(preprocessor)"
   ]
  },
  {
   "cell_type": "code",
   "execution_count": 12,
   "metadata": {},
   "outputs": [
    {
     "data": {
      "text/plain": [
       "62"
      ]
     },
     "execution_count": 12,
     "metadata": {},
     "output_type": "execute_result"
    }
   ],
   "source": [
    "len(get_column_names_from_ColumnTransformer(preprocessor))"
   ]
  },
  {
   "cell_type": "code",
   "execution_count": 13,
   "metadata": {},
   "outputs": [],
   "source": [
    "def evaluate(estimator, X_train, X_test, y_train, y_test):\n",
    "    '''\n",
    "    Evalutaion function to show scoring metrics such as f1, ROC AUC, accuracy, precision and recall\n",
    "    for both the train and test sets\n",
    "    Also will show a confusion matrix\n",
    "    '''\n",
    "    # set predictions\n",
    "    train_preds = estimator.predict(X_train)\n",
    "    test_preds = estimator.predict(X_test)\n",
    "    \n",
    "    # print scores\n",
    "    print(\"Train Scores\")\n",
    "    print(\"------------\")\n",
    "    print(f\"Accuracy: {np.round(accuracy_score(y_train, train_preds)*100, 2)}%\")\n",
    "    print(f\"F1: {np.round(f1_score(y_train, train_preds)*100, 2)}%\")\n",
    "    print(f\"ROC-AUC: {np.round(roc_auc_score(y_train, train_preds)*100, 2)}%\")\n",
    "    print(f\"Precision: {np.round(precision_score(y_train, train_preds)*100, 2)}%\")\n",
    "    print(f\"Recall: {np.round(recall_score(y_train, train_preds)*100, 2)}%\")\n",
    "    print(\"------\" * 5)\n",
    "    print(\"Test Scores\")\n",
    "    print(\"-----------\")\n",
    "    print(f\"Accuracy: {np.round(accuracy_score(y_test, test_preds)*100, 2)}%\")\n",
    "    print(f\"F1: {np.round(f1_score(y_test, test_preds)*100, 2)}%\")\n",
    "    print(f\"ROC-AUC: {np.round(roc_auc_score(y_test, test_preds)*100, 2)}%\")\n",
    "    print(f\"Precision: {np.round(precision_score(y_test, test_preds)*100, 2)}%\")\n",
    "    print(f\"Recall: {np.round(recall_score(y_test, test_preds)*100, 2)}%\")\n",
    "    \n",
    "    # plot test confusion matrix   \n",
    "    plot_confusion_matrix(estimator, X_test, y_test)\n"
   ]
  },
  {
   "cell_type": "code",
   "execution_count": 14,
   "metadata": {},
   "outputs": [
    {
     "name": "stdout",
     "output_type": "stream",
     "text": [
      "Train Scores\n",
      "------------\n",
      "Accuracy: 77.21%\n",
      "F1: 81.22%\n",
      "ROC-AUC: 75.75%\n",
      "Precision: 78.17%\n",
      "Recall: 84.52%\n",
      "------------------------------\n",
      "Test Scores\n",
      "-----------\n",
      "Accuracy: 76.92%\n",
      "F1: 81.05%\n",
      "ROC-AUC: 75.46%\n",
      "Precision: 78.97%\n",
      "Recall: 83.25%\n"
     ]
    },
    {
     "data": {
      "image/png": "[encoded data removed]",
      "text/plain": [
       "<Figure size 432x288 with 2 Axes>"
      ]
     },
     "metadata": {
      "needs_background": "light"
     },
     "output_type": "display_data"
    }
   ],
   "source": [
    "evaluate(clf_logreg, X_train, X_test, y_train, y_test)"
   ]
  },
  {
   "cell_type": "markdown",
   "metadata": {},
   "source": [
    "Baseline model showed satisfactory results.\n",
    "I would've liked to have more false negatives than false positives\n",
    "I will continue to build and test other models using my pipeline, this time with more parameters within each unique\n",
    "classifier to obtain the best results."
   ]
  },
  {
   "cell_type": "markdown",
   "metadata": {},
   "source": [
    "# Decision Tree Model w/ Grid Search"
   ]
  },
  {
   "cell_type": "code",
   "execution_count": 15,
   "metadata": {},
   "outputs": [
    {
     "data": {
      "text/plain": [
       "GridSearchCV(estimator=Pipeline(steps=[('preprocessor',\n",
       "                                        ColumnTransformer(remainder='passthrough',\n",
       "                                                          transformers=[('num',\n",
       "                                                                         Pipeline(steps=[('num_imputer',\n",
       "                                                                                          SimpleImputer(strategy='median')),\n",
       "                                                                                         ('scaler',\n",
       "                                                                                          MinMaxScaler())]),\n",
       "                                                                         ['amount_tsh',\n",
       "                                                                          'gps_height',\n",
       "                                                                          'public_meeting',\n",
       "                                                                          'permit',\n",
       "                                                                          'construction_year']),\n",
       "                                                                        ('cat_ohe',\n",
       "                                                                         Pipeline(steps=[('ohe',\n",
       "                                                                                          OneHotEncoder(handle_unknown='...\n",
       "                                                                                          CountEncoder(combine_min_nan_groups=True,\n",
       "                                                                                                       min_group_name='other',\n",
       "                                                                                                       min_group_size=0.01,\n",
       "                                                                                                       normalize=True))]),\n",
       "                                                                         ['funder',\n",
       "                                                                          'installer',\n",
       "                                                                          'wpt_name',\n",
       "                                                                          'subvillage',\n",
       "                                                                          'region',\n",
       "                                                                          'scheme_management',\n",
       "                                                                          'management'])])),\n",
       "                                       ('classifier',\n",
       "                                        DecisionTreeClassifier(random_state=0))]),\n",
       "             param_grid={'classifier__max_depth': [3, 5, 10],\n",
       "                         'classifier__min_samples_leaf': [2, 4],\n",
       "                         'classifier__min_samples_split': [4, 7]})"
      ]
     },
     "execution_count": 15,
     "metadata": {},
     "output_type": "execute_result"
    }
   ],
   "source": [
    "clf_decision_tree = Pipeline(steps=[('preprocessor', preprocessor),\n",
    "                                    ('classifier', DecisionTreeClassifier(random_state=0))])\n",
    "\n",
    "# I will be using GridSearchCV to determine the best parameters for my classifier.\n",
    "# First I will set a parameter limit to apply to the 'param_grid'\n",
    "\n",
    "# To set paramaters for the Decision Tree Classifier, I couldn't use \"max_depth\" or \"min_samples_split\"\n",
    "# as stated in the documentation because there was conflict using a pipeline method as the estimator.\n",
    "# Therefore I had to use \"classifier__\" before the standard Decision Tree Classifier parameters.\n",
    "\n",
    "param_limit = {\n",
    "    'classifier__max_depth': [3, 5, 10],\n",
    "    'classifier__min_samples_split': [4, 7],\n",
    "    'classifier__min_samples_leaf': [2,4],\n",
    "}\n",
    "\n",
    "\n",
    "grid_decision_tree = GridSearchCV(clf_decision_tree, param_grid=param_limit)\n",
    "\n",
    "grid_decision_tree.fit(X_train, y_train)"
   ]
  },
  {
   "cell_type": "code",
   "execution_count": 16,
   "metadata": {},
   "outputs": [],
   "source": [
    "def get_best_parameters(classifier):\n",
    "    best_parameters = classifier.best_params_\n",
    "    \n",
    "    print('Grid Search found the following optimal parameters:')\n",
    "    print('-----' * 10)\n",
    "    for param_name in sorted(best_parameters.keys()):\n",
    "        print('%s: %r' % (param_name, best_parameters[param_name]))"
   ]
  },
  {
   "cell_type": "code",
   "execution_count": 17,
   "metadata": {},
   "outputs": [
    {
     "name": "stdout",
     "output_type": "stream",
     "text": [
      "Grid Search found the following optimal parameters:\n",
      "--------------------------------------------------\n",
      "classifier__max_depth: 10\n",
      "classifier__min_samples_leaf: 4\n",
      "classifier__min_samples_split: 4\n"
     ]
    }
   ],
   "source": [
    "get_best_parameters(grid_decision_tree)"
   ]
  },
  {
   "cell_type": "code",
   "execution_count": 18,
   "metadata": {},
   "outputs": [
    {
     "name": "stdout",
     "output_type": "stream",
     "text": [
      "Train Scores\n",
      "------------\n",
      "Accuracy: 80.24%\n",
      "F1: 84.43%\n",
      "ROC-AUC: 77.92%\n",
      "Precision: 78.11%\n",
      "Recall: 91.85%\n",
      "------------------------------\n",
      "Test Scores\n",
      "-----------\n",
      "Accuracy: 79.09%\n",
      "F1: 83.68%\n",
      "ROC-AUC: 76.5%\n",
      "Precision: 77.89%\n",
      "Recall: 90.4%\n"
     ]
    },
    {
     "data": {
      "image/png": "[encoded data removed]",
      "text/plain": [
       "<Figure size 432x288 with 2 Axes>"
      ]
     },
     "metadata": {
      "needs_background": "light"
     },
     "output_type": "display_data"
    }
   ],
   "source": [
    "evaluate(grid_decision_tree, X_train, X_test, y_train, y_test)"
   ]
  },
  {
   "cell_type": "markdown",
   "metadata": {},
   "source": [
    "# K-Nearest Neighbors w/ Grid Search"
   ]
  },
  {
   "cell_type": "code",
   "execution_count": 19,
   "metadata": {},
   "outputs": [
    {
     "data": {
      "text/plain": [
       "GridSearchCV(estimator=Pipeline(steps=[('preprocessor',\n",
       "                                        ColumnTransformer(remainder='passthrough',\n",
       "                                                          transformers=[('num',\n",
       "                                                                         Pipeline(steps=[('num_imputer',\n",
       "                                                                                          SimpleImputer(strategy='median')),\n",
       "                                                                                         ('scaler',\n",
       "                                                                                          MinMaxScaler())]),\n",
       "                                                                         ['amount_tsh',\n",
       "                                                                          'gps_height',\n",
       "                                                                          'public_meeting',\n",
       "                                                                          'permit',\n",
       "                                                                          'construction_year']),\n",
       "                                                                        ('cat_ohe',\n",
       "                                                                         Pipeline(steps=[('ohe',\n",
       "                                                                                          OneHotEncoder(handle_unknown='...\n",
       "                                                                         Pipeline(steps=[('freq_enc',\n",
       "                                                                                          CountEncoder(combine_min_nan_groups=True,\n",
       "                                                                                                       min_group_name='other',\n",
       "                                                                                                       min_group_size=0.01,\n",
       "                                                                                                       normalize=True))]),\n",
       "                                                                         ['funder',\n",
       "                                                                          'installer',\n",
       "                                                                          'wpt_name',\n",
       "                                                                          'subvillage',\n",
       "                                                                          'region',\n",
       "                                                                          'scheme_management',\n",
       "                                                                          'management'])])),\n",
       "                                       ('classifier', KNeighborsClassifier())]),\n",
       "             param_grid={'classifier__n_neighbors': [5, 11, 25],\n",
       "                         'classifier__weights': ['uniform', 'distance']})"
      ]
     },
     "execution_count": 19,
     "metadata": {},
     "output_type": "execute_result"
    }
   ],
   "source": [
    "clf_knn = Pipeline(steps=[('preprocessor', preprocessor),\n",
    "                          ('classifier', KNeighborsClassifier())])\n",
    "\n",
    "param_limit = {\n",
    "    'classifier__n_neighbors': [5, 11, 25],\n",
    "    'classifier__weights': ['uniform', 'distance'],\n",
    "}\n",
    "\n",
    "\n",
    "grid_knn = GridSearchCV(clf_knn, param_grid=param_limit)\n",
    "\n",
    "grid_knn.fit(X_train, y_train)"
   ]
  },
  {
   "cell_type": "code",
   "execution_count": 20,
   "metadata": {},
   "outputs": [
    {
     "name": "stdout",
     "output_type": "stream",
     "text": [
      "Grid Search found the following optimal parameters:\n",
      "--------------------------------------------------\n",
      "classifier__n_neighbors: 11\n",
      "classifier__weights: 'uniform'\n"
     ]
    }
   ],
   "source": [
    "get_best_parameters(grid_knn)"
   ]
  },
  {
   "cell_type": "code",
   "execution_count": 21,
   "metadata": {},
   "outputs": [
    {
     "name": "stdout",
     "output_type": "stream",
     "text": [
      "Train Scores\n",
      "------------\n",
      "Accuracy: 84.45%\n",
      "F1: 87.26%\n",
      "ROC-AUC: 83.09%\n",
      "Precision: 83.57%\n",
      "Recall: 91.29%\n",
      "------------------------------\n",
      "Test Scores\n",
      "-----------\n",
      "Accuracy: 82.4%\n",
      "F1: 85.72%\n",
      "ROC-AUC: 80.87%\n",
      "Precision: 82.61%\n",
      "Recall: 89.07%\n"
     ]
    },
    {
     "data": {
      "image/png": "[encoded data removed]",
      "text/plain": [
       "<Figure size 432x288 with 2 Axes>"
      ]
     },
     "metadata": {
      "needs_background": "light"
     },
     "output_type": "display_data"
    }
   ],
   "source": [
    "evaluate(grid_knn, X_train, X_test, y_train, y_test)"
   ]
  },
  {
   "cell_type": "markdown",
   "metadata": {},
   "source": [
    "# Random Forest Model w/ Grid Search"
   ]
  },
  {
   "cell_type": "code",
   "execution_count": 22,
   "metadata": {},
   "outputs": [
    {
     "data": {
      "text/plain": [
       "GridSearchCV(estimator=Pipeline(steps=[('preprocessor',\n",
       "                                        ColumnTransformer(remainder='passthrough',\n",
       "                                                          transformers=[('num',\n",
       "                                                                         Pipeline(steps=[('num_imputer',\n",
       "                                                                                          SimpleImputer(strategy='median')),\n",
       "                                                                                         ('scaler',\n",
       "                                                                                          MinMaxScaler())]),\n",
       "                                                                         ['amount_tsh',\n",
       "                                                                          'gps_height',\n",
       "                                                                          'public_meeting',\n",
       "                                                                          'permit',\n",
       "                                                                          'construction_year']),\n",
       "                                                                        ('cat_ohe',\n",
       "                                                                         Pipeline(steps=[('ohe',\n",
       "                                                                                          OneHotEncoder(handle_unknown='...\n",
       "                                                                                                       min_group_size=0.01,\n",
       "                                                                                                       normalize=True))]),\n",
       "                                                                         ['funder',\n",
       "                                                                          'installer',\n",
       "                                                                          'wpt_name',\n",
       "                                                                          'subvillage',\n",
       "                                                                          'region',\n",
       "                                                                          'scheme_management',\n",
       "                                                                          'management'])])),\n",
       "                                       ('classifier',\n",
       "                                        RandomForestClassifier(random_state=0))]),\n",
       "             param_grid={'classifier__criterion': ['gini', 'entropy'],\n",
       "                         'classifier__max_depth': [5, 10, 15],\n",
       "                         'classifier__min_samples_leaf': [1, 3],\n",
       "                         'classifier__min_samples_split': [2, 5]})"
      ]
     },
     "execution_count": 22,
     "metadata": {},
     "output_type": "execute_result"
    }
   ],
   "source": [
    "clf_RF= Pipeline(steps=[('preprocessor', preprocessor),\n",
    "                          ('classifier', RandomForestClassifier(random_state=0))])\n",
    "\n",
    "param_limit = {\n",
    "    'classifier__criterion': ['gini', 'entropy'],\n",
    "    'classifier__max_depth': [5, 10, 15],\n",
    "    'classifier__min_samples_split': [2, 5],\n",
    "    'classifier__min_samples_leaf': [1, 3],\n",
    "}\n",
    "\n",
    "\n",
    "grid_RF = GridSearchCV(clf_RF, param_grid=param_limit)\n",
    "\n",
    "grid_RF.fit(X_train, y_train)"
   ]
  },
  {
   "cell_type": "code",
   "execution_count": 23,
   "metadata": {},
   "outputs": [
    {
     "name": "stdout",
     "output_type": "stream",
     "text": [
      "Grid Search found the following optimal parameters:\n",
      "--------------------------------------------------\n",
      "classifier__criterion: 'entropy'\n",
      "classifier__max_depth: 15\n",
      "classifier__min_samples_leaf: 1\n",
      "classifier__min_samples_split: 2\n"
     ]
    }
   ],
   "source": [
    "get_best_parameters(grid_RF)"
   ]
  },
  {
   "cell_type": "code",
   "execution_count": 24,
   "metadata": {},
   "outputs": [
    {
     "name": "stdout",
     "output_type": "stream",
     "text": [
      "Train Scores\n",
      "------------\n",
      "Accuracy: 87.51%\n",
      "F1: 90.11%\n",
      "ROC-AUC: 85.52%\n",
      "Precision: 83.74%\n",
      "Recall: 97.51%\n",
      "------------------------------\n",
      "Test Scores\n",
      "-----------\n",
      "Accuracy: 83.86%\n",
      "F1: 87.38%\n",
      "ROC-AUC: 81.5%\n",
      "Precision: 81.49%\n",
      "Recall: 94.18%\n"
     ]
    },
    {
     "data": {
      "image/png": "[encoded data removed]",
      "text/plain": [
       "<Figure size 432x288 with 2 Axes>"
      ]
     },
     "metadata": {
      "needs_background": "light"
     },
     "output_type": "display_data"
    }
   ],
   "source": [
    "evaluate(grid_RF, X_train, X_test, y_train, y_test)"
   ]
  },
  {
   "cell_type": "markdown",
   "metadata": {},
   "source": [
    "# XGBoost Model w/ Grid Search"
   ]
  },
  {
   "cell_type": "code",
   "execution_count": 25,
   "metadata": {},
   "outputs": [
    {
     "data": {
      "text/plain": [
       "GridSearchCV(estimator=Pipeline(steps=[('preprocessor',\n",
       "                                        ColumnTransformer(remainder='passthrough',\n",
       "                                                          transformers=[('num',\n",
       "                                                                         Pipeline(steps=[('num_imputer',\n",
       "                                                                                          SimpleImputer(strategy='median')),\n",
       "                                                                                         ('scaler',\n",
       "                                                                                          MinMaxScaler())]),\n",
       "                                                                         ['amount_tsh',\n",
       "                                                                          'gps_height',\n",
       "                                                                          'public_meeting',\n",
       "                                                                          'permit',\n",
       "                                                                          'construction_year']),\n",
       "                                                                        ('cat_ohe',\n",
       "                                                                         Pipeline(steps=[('ohe',\n",
       "                                                                                          OneHotEncoder(handle_unknown='...\n",
       "                                                      reg_alpha=None,\n",
       "                                                      reg_lambda=None,\n",
       "                                                      scale_pos_weight=None,\n",
       "                                                      subsample=None,\n",
       "                                                      tree_method=None,\n",
       "                                                      use_label_encoder=False,\n",
       "                                                      validate_parameters=None,\n",
       "                                                      verbosity=None))]),\n",
       "             param_grid={'classifier__gamma': [0, 1],\n",
       "                         'classifier__learning_rate': [0.1, 0.2],\n",
       "                         'classifier__max_depth': [15, 20],\n",
       "                         'classifier__min_child_weight': [1, 2],\n",
       "                         'classifier__n_estimators': [100],\n",
       "                         'classifier__subsample': [0.5, 1]})"
      ]
     },
     "execution_count": 25,
     "metadata": {},
     "output_type": "execute_result"
    }
   ],
   "source": [
    "clf_XG = Pipeline(steps=[('preprocessor', preprocessor),\n",
    "                          ('classifier', XGBClassifier(use_label_encoder=False, disable_default_eval_metric=True))])\n",
    "\n",
    "param_limit = {\n",
    "    'classifier__learning_rate': [0.1, 0.2],\n",
    "    'classifier__max_depth': [15, 20],\n",
    "    'classifier__gamma': [0,1],\n",
    "    'classifier__min_child_weight': [1, 2],\n",
    "    'classifier__subsample': [0.5, 1],\n",
    "    'classifier__n_estimators': [100]\n",
    "}\n",
    "\n",
    "\n",
    "grid_XG = GridSearchCV(clf_XG, param_grid=param_limit)\n",
    "\n",
    "grid_XG.fit(X_train, y_train)"
   ]
  },
  {
   "cell_type": "code",
   "execution_count": 26,
   "metadata": {},
   "outputs": [
    {
     "name": "stdout",
     "output_type": "stream",
     "text": [
      "Grid Search found the following optimal parameters:\n",
      "--------------------------------------------------\n",
      "classifier__gamma: 0\n",
      "classifier__learning_rate: 0.1\n",
      "classifier__max_depth: 15\n",
      "classifier__min_child_weight: 2\n",
      "classifier__n_estimators: 100\n",
      "classifier__subsample: 1\n"
     ]
    }
   ],
   "source": [
    "get_best_parameters(grid_XG)"
   ]
  },
  {
   "cell_type": "code",
   "execution_count": 27,
   "metadata": {},
   "outputs": [
    {
     "name": "stdout",
     "output_type": "stream",
     "text": [
      "Train Scores\n",
      "------------\n",
      "Accuracy: 92.35%\n",
      "F1: 93.67%\n",
      "ROC-AUC: 91.39%\n",
      "Precision: 90.44%\n",
      "Recall: 97.15%\n",
      "------------------------------\n",
      "Test Scores\n",
      "-----------\n",
      "Accuracy: 84.58%\n",
      "F1: 87.55%\n",
      "ROC-AUC: 83.03%\n",
      "Precision: 84.03%\n",
      "Recall: 91.37%\n"
     ]
    },
    {
     "data": {
      "image/png": "[encoded data removed]",
      "text/plain": [
       "<Figure size 432x288 with 2 Axes>"
      ]
     },
     "metadata": {
      "needs_background": "light"
     },
     "output_type": "display_data"
    }
   ],
   "source": [
    "evaluate(grid_XG, X_train, X_test, y_train, y_test)"
   ]
  },
  {
   "cell_type": "markdown",
   "metadata": {},
   "source": [
    "# SVM (Suport Vector Machine) Model w/ Grid Search"
   ]
  },
  {
   "cell_type": "code",
   "execution_count": 28,
   "metadata": {},
   "outputs": [
    {
     "data": {
      "text/plain": [
       "GridSearchCV(estimator=Pipeline(steps=[('preprocessor',\n",
       "                                        ColumnTransformer(remainder='passthrough',\n",
       "                                                          transformers=[('num',\n",
       "                                                                         Pipeline(steps=[('num_imputer',\n",
       "                                                                                          SimpleImputer(strategy='median')),\n",
       "                                                                                         ('scaler',\n",
       "                                                                                          MinMaxScaler())]),\n",
       "                                                                         ['amount_tsh',\n",
       "                                                                          'gps_height',\n",
       "                                                                          'public_meeting',\n",
       "                                                                          'permit',\n",
       "                                                                          'construction_year']),\n",
       "                                                                        ('cat_ohe',\n",
       "                                                                         Pipeline(steps=[('ohe',\n",
       "                                                                                          OneHotEncoder(handle_unknown='...\n",
       "                                                                         Pipeline(steps=[('freq_enc',\n",
       "                                                                                          CountEncoder(combine_min_nan_groups=True,\n",
       "                                                                                                       min_group_name='other',\n",
       "                                                                                                       min_group_size=0.01,\n",
       "                                                                                                       normalize=True))]),\n",
       "                                                                         ['funder',\n",
       "                                                                          'installer',\n",
       "                                                                          'wpt_name',\n",
       "                                                                          'subvillage',\n",
       "                                                                          'region',\n",
       "                                                                          'scheme_management',\n",
       "                                                                          'management'])])),\n",
       "                                       ('classifier', SVC(probability=True))]),\n",
       "             param_grid={'classifier__C': [10, 12],\n",
       "                         'classifier__gamma': ['scale'],\n",
       "                         'classifier__kernel': ['rbf']})"
      ]
     },
     "execution_count": 28,
     "metadata": {},
     "output_type": "execute_result"
    }
   ],
   "source": [
    "clf_svm = Pipeline(steps=[('preprocessor', preprocessor),\n",
    "                          ('classifier', SVC(probability=True))])\n",
    "\n",
    "param_limit = {\n",
    "    'classifier__C': [10, 12],\n",
    "    'classifier__kernel': ['rbf'],\n",
    "    'classifier__gamma': ['scale']\n",
    "}\n",
    "\n",
    "\n",
    "grid_svm = GridSearchCV(clf_svm, param_grid=param_limit)\n",
    "\n",
    "grid_svm.fit(X_train, y_train)"
   ]
  },
  {
   "cell_type": "code",
   "execution_count": 29,
   "metadata": {},
   "outputs": [
    {
     "name": "stdout",
     "output_type": "stream",
     "text": [
      "Grid Search found the following optimal parameters:\n",
      "--------------------------------------------------\n",
      "classifier__C: 10\n",
      "classifier__gamma: 'scale'\n",
      "classifier__kernel: 'rbf'\n"
     ]
    }
   ],
   "source": [
    "get_best_parameters(grid_svm)"
   ]
  },
  {
   "cell_type": "code",
   "execution_count": 30,
   "metadata": {},
   "outputs": [
    {
     "name": "stdout",
     "output_type": "stream",
     "text": [
      "Train Scores\n",
      "------------\n",
      "Accuracy: 92.35%\n",
      "F1: 93.67%\n",
      "ROC-AUC: 91.39%\n",
      "Precision: 90.44%\n",
      "Recall: 97.15%\n",
      "------------------------------\n",
      "Test Scores\n",
      "-----------\n",
      "Accuracy: 84.58%\n",
      "F1: 87.55%\n",
      "ROC-AUC: 83.03%\n",
      "Precision: 84.03%\n",
      "Recall: 91.37%\n"
     ]
    },
    {
     "data": {
      "image/png": "[encoded data removed]",
      "text/plain": [
       "<Figure size 432x288 with 2 Axes>"
      ]
     },
     "metadata": {
      "needs_background": "light"
     },
     "output_type": "display_data"
    }
   ],
   "source": [
    "evaluate(grid_XG, X_train, X_test, y_train, y_test)"
   ]
  },
  {
   "cell_type": "markdown",
   "metadata": {},
   "source": [
    "# Final Model Further Evaluation and Tuning - KNN"
   ]
  },
  {
   "cell_type": "markdown",
   "metadata": {},
   "source": [
    "### Top performing parameters and results from initial gridsearch knn model:\n",
    "    "
   ]
  },
  {
   "cell_type": "code",
   "execution_count": 31,
   "metadata": {},
   "outputs": [
    {
     "name": "stdout",
     "output_type": "stream",
     "text": [
      "Grid Search found the following optimal parameters:\n",
      "--------------------------------------------------\n",
      "classifier__n_neighbors: 11\n",
      "classifier__weights: 'uniform'\n"
     ]
    }
   ],
   "source": [
    "get_best_parameters(grid_knn)"
   ]
  },
  {
   "cell_type": "code",
   "execution_count": 32,
   "metadata": {},
   "outputs": [
    {
     "name": "stdout",
     "output_type": "stream",
     "text": [
      "Train Scores\n",
      "------------\n",
      "Accuracy: 84.45%\n",
      "F1: 87.26%\n",
      "ROC-AUC: 83.09%\n",
      "Precision: 83.57%\n",
      "Recall: 91.29%\n",
      "------------------------------\n",
      "Test Scores\n",
      "-----------\n",
      "Accuracy: 82.4%\n",
      "F1: 85.72%\n",
      "ROC-AUC: 80.87%\n",
      "Precision: 82.61%\n",
      "Recall: 89.07%\n"
     ]
    },
    {
     "data": {
      "image/png": "[encoded data removed]",
      "text/plain": [
       "<Figure size 432x288 with 2 Axes>"
      ]
     },
     "metadata": {
      "needs_background": "light"
     },
     "output_type": "display_data"
    }
   ],
   "source": [
    "evaluate(grid_knn, X_train, X_test, y_train, y_test)"
   ]
  },
  {
   "cell_type": "markdown",
   "metadata": {},
   "source": [
    "### First attempt at further hyperparameter tuning:"
   ]
  },
  {
   "cell_type": "code",
   "execution_count": 33,
   "metadata": {},
   "outputs": [
    {
     "data": {
      "text/plain": [
       "GridSearchCV(estimator=Pipeline(steps=[('preprocessor',\n",
       "                                        ColumnTransformer(remainder='passthrough',\n",
       "                                                          transformers=[('num',\n",
       "                                                                         Pipeline(steps=[('num_imputer',\n",
       "                                                                                          SimpleImputer(strategy='median')),\n",
       "                                                                                         ('scaler',\n",
       "                                                                                          MinMaxScaler())]),\n",
       "                                                                         ['amount_tsh',\n",
       "                                                                          'gps_height',\n",
       "                                                                          'public_meeting',\n",
       "                                                                          'permit',\n",
       "                                                                          'construction_year']),\n",
       "                                                                        ('cat_ohe',\n",
       "                                                                         Pipeline(steps=[('ohe',\n",
       "                                                                                          OneHotEncoder(handle_unknown='...\n",
       "                                                                                          CountEncoder(combine_min_nan_groups=True,\n",
       "                                                                                                       min_group_name='other',\n",
       "                                                                                                       min_group_size=0.01,\n",
       "                                                                                                       normalize=True))]),\n",
       "                                                                         ['funder',\n",
       "                                                                          'installer',\n",
       "                                                                          'wpt_name',\n",
       "                                                                          'subvillage',\n",
       "                                                                          'region',\n",
       "                                                                          'scheme_management',\n",
       "                                                                          'management'])])),\n",
       "                                       ('classifier', KNeighborsClassifier())]),\n",
       "             param_grid={'classifier__leaf_size': [30, 35, 40],\n",
       "                         'classifier__n_neighbors': [7, 11],\n",
       "                         'classifier__p': [1, 2],\n",
       "                         'classifier__weights': ['uniform', 'distance']})"
      ]
     },
     "execution_count": 33,
     "metadata": {},
     "output_type": "execute_result"
    }
   ],
   "source": [
    "clf_knn_final_f1 = Pipeline(steps=[('preprocessor', preprocessor),\n",
    "                          ('classifier', KNeighborsClassifier())])\n",
    "\n",
    "param_limit = {\n",
    "    'classifier__n_neighbors': [7, 11],\n",
    "    'classifier__weights': ['uniform', 'distance'],\n",
    "    'classifier__leaf_size': [30, 35, 40],\n",
    "    'classifier__p': [1, 2],\n",
    "}\n",
    "\n",
    "\n",
    "grid_knn_final_f1 = GridSearchCV(clf_knn_final_f1, param_grid=param_limit)\n",
    "\n",
    "grid_knn_final_f1.fit(X_train, y_train)"
   ]
  },
  {
   "cell_type": "code",
   "execution_count": 34,
   "metadata": {},
   "outputs": [
    {
     "name": "stdout",
     "output_type": "stream",
     "text": [
      "Grid Search found the following optimal parameters:\n",
      "--------------------------------------------------\n",
      "classifier__leaf_size: 30\n",
      "classifier__n_neighbors: 7\n",
      "classifier__p: 1\n",
      "classifier__weights: 'uniform'\n"
     ]
    }
   ],
   "source": [
    "get_best_parameters(grid_knn_final_f1)"
   ]
  },
  {
   "cell_type": "code",
   "execution_count": 35,
   "metadata": {},
   "outputs": [
    {
     "name": "stdout",
     "output_type": "stream",
     "text": [
      "Train Scores\n",
      "------------\n",
      "Accuracy: 86.03%\n",
      "F1: 88.48%\n",
      "ROC-AUC: 84.84%\n",
      "Precision: 85.22%\n",
      "Recall: 91.99%\n",
      "------------------------------\n",
      "Test Scores\n",
      "-----------\n",
      "Accuracy: 82.76%\n",
      "F1: 85.94%\n",
      "ROC-AUC: 81.37%\n",
      "Precision: 83.21%\n",
      "Recall: 88.86%\n"
     ]
    },
    {
     "data": {
      "image/png": "[encoded data removed]",
      "text/plain": [
       "<Figure size 432x288 with 2 Axes>"
      ]
     },
     "metadata": {
      "needs_background": "light"
     },
     "output_type": "display_data"
    }
   ],
   "source": [
    "evaluate(grid_knn_final_f1, X_train, X_test, y_train, y_test)"
   ]
  },
  {
   "cell_type": "markdown",
   "metadata": {},
   "source": [
    "### Second attempt at further hypermarameter tuning:"
   ]
  },
  {
   "cell_type": "code",
   "execution_count": 36,
   "metadata": {},
   "outputs": [
    {
     "data": {
      "text/plain": [
       "GridSearchCV(estimator=Pipeline(steps=[('preprocessor',\n",
       "                                        ColumnTransformer(remainder='passthrough',\n",
       "                                                          transformers=[('num',\n",
       "                                                                         Pipeline(steps=[('num_imputer',\n",
       "                                                                                          SimpleImputer(strategy='median')),\n",
       "                                                                                         ('scaler',\n",
       "                                                                                          MinMaxScaler())]),\n",
       "                                                                         ['amount_tsh',\n",
       "                                                                          'gps_height',\n",
       "                                                                          'public_meeting',\n",
       "                                                                          'permit',\n",
       "                                                                          'construction_year']),\n",
       "                                                                        ('cat_ohe',\n",
       "                                                                         Pipeline(steps=[('ohe',\n",
       "                                                                                          OneHotEncoder(handle_unknown='...\n",
       "                                                                                                       min_group_size=0.01,\n",
       "                                                                                                       normalize=True))]),\n",
       "                                                                         ['funder',\n",
       "                                                                          'installer',\n",
       "                                                                          'wpt_name',\n",
       "                                                                          'subvillage',\n",
       "                                                                          'region',\n",
       "                                                                          'scheme_management',\n",
       "                                                                          'management'])])),\n",
       "                                       ('classifier', KNeighborsClassifier())]),\n",
       "             param_grid={'classifier__algorithm': ['ball_tree', 'kd_tree',\n",
       "                                                   'brute'],\n",
       "                         'classifier__leaf_size': [20, 25, 30],\n",
       "                         'classifier__n_neighbors': [5, 7, 9],\n",
       "                         'classifier__p': [1, 2],\n",
       "                         'classifier__weights': ['uniform']})"
      ]
     },
     "execution_count": 36,
     "metadata": {},
     "output_type": "execute_result"
    }
   ],
   "source": [
    "clf_knn_final_2nd = Pipeline(steps=[('preprocessor', preprocessor),\n",
    "                          ('classifier', KNeighborsClassifier())])\n",
    "\n",
    "param_limit = {\n",
    "    'classifier__n_neighbors': [5, 7, 9],\n",
    "    'classifier__weights': ['uniform'],\n",
    "    'classifier__leaf_size': [20, 25, 30],\n",
    "    'classifier__p': [1, 2],\n",
    "    'classifier__algorithm': ['ball_tree','kd_tree','brute']\n",
    "}\n",
    "\n",
    "\n",
    "grid_knn_final_2nd = GridSearchCV(clf_knn_final_2nd, param_grid=param_limit)\n",
    "\n",
    "grid_knn_final_2nd.fit(X_train, y_train)"
   ]
  },
  {
   "cell_type": "code",
   "execution_count": 37,
   "metadata": {},
   "outputs": [
    {
     "name": "stdout",
     "output_type": "stream",
     "text": [
      "Grid Search found the following optimal parameters:\n",
      "--------------------------------------------------\n",
      "classifier__algorithm: 'ball_tree'\n",
      "classifier__leaf_size: 20\n",
      "classifier__n_neighbors: 7\n",
      "classifier__p: 1\n",
      "classifier__weights: 'uniform'\n"
     ]
    }
   ],
   "source": [
    "get_best_parameters(grid_knn_final_2nd)"
   ]
  },
  {
   "cell_type": "code",
   "execution_count": 38,
   "metadata": {},
   "outputs": [
    {
     "name": "stdout",
     "output_type": "stream",
     "text": [
      "Train Scores\n",
      "------------\n",
      "Accuracy: 86.01%\n",
      "F1: 88.46%\n",
      "ROC-AUC: 84.83%\n",
      "Precision: 85.23%\n",
      "Recall: 91.95%\n",
      "------------------------------\n",
      "Test Scores\n",
      "-----------\n",
      "Accuracy: 82.75%\n",
      "F1: 85.93%\n",
      "ROC-AUC: 81.36%\n",
      "Precision: 83.23%\n",
      "Recall: 88.82%\n"
     ]
    },
    {
     "data": {
      "image/png": "[encoded data removed]",
      "text/plain": [
       "<Figure size 432x288 with 2 Axes>"
      ]
     },
     "metadata": {
      "needs_background": "light"
     },
     "output_type": "display_data"
    }
   ],
   "source": [
    "evaluate(grid_knn_final_2nd, X_train, X_test, y_train, y_test)"
   ]
  },
  {
   "cell_type": "markdown",
   "metadata": {},
   "source": [
    "After two extensive attempts at bettering the KNN model results, I've concluded that my initial KNN parameters show the best results. In this case, the simpler model performs just as well if not better than the more complex hyperparameter tunings with gridsearch. "
   ]
  }
 ],
 "metadata": {
  "kernelspec": {
   "display_name": "Python (learn-env)",
   "language": "python",
   "name": "learn-env"
  },
  "language_info": {
   "codemirror_mode": {
    "name": "ipython",
    "version": 3
   },
   "file_extension": ".py",
   "mimetype": "text/x-python",
   "name": "python",
   "nbconvert_exporter": "python",
   "pygments_lexer": "ipython3",
   "version": "3.8.5"
  }
 },
 "nbformat": 4,
 "nbformat_minor": 4
}
